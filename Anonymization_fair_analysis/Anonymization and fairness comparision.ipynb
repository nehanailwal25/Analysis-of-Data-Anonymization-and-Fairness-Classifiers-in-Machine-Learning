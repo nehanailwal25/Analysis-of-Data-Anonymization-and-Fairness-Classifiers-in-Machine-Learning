{
 "cells": [
  {
   "cell_type": "markdown",
   "id": "257552cc",
   "metadata": {},
   "source": [
    "# Anonymization on Raw and Fair Data "
   ]
  },
  {
   "cell_type": "markdown",
   "id": "ddbc8137",
   "metadata": {},
   "source": [
    "#### Import Libraries "
   ]
  },
  {
   "cell_type": "code",
   "execution_count": 1,
   "id": "a3c3a08c",
   "metadata": {},
   "outputs": [],
   "source": [
    "import pandas as pd"
   ]
  },
  {
   "cell_type": "markdown",
   "id": "30e0da86",
   "metadata": {},
   "source": [
    "#### Extracting Raw data"
   ]
  },
  {
   "cell_type": "code",
   "execution_count": 2,
   "id": "9b90d5a3",
   "metadata": {},
   "outputs": [],
   "source": [
    "df_kanony = pd.read_csv(r'C:\\Users\\Neha Sharma\\Desktop\\Security and Privacy\\Project\\Github\\Final Results\\anonymised\\Original_Adult_anonymised.csv');"
   ]
  },
  {
   "cell_type": "code",
   "execution_count": 3,
   "id": "5a8804da",
   "metadata": {},
   "outputs": [
    {
     "data": {
      "text/html": [
       "<div>\n",
       "<style scoped>\n",
       "    .dataframe tbody tr th:only-of-type {\n",
       "        vertical-align: middle;\n",
       "    }\n",
       "\n",
       "    .dataframe tbody tr th {\n",
       "        vertical-align: top;\n",
       "    }\n",
       "\n",
       "    .dataframe thead th {\n",
       "        text-align: right;\n",
       "    }\n",
       "</style>\n",
       "<table border=\"1\" class=\"dataframe\">\n",
       "  <thead>\n",
       "    <tr style=\"text-align: right;\">\n",
       "      <th></th>\n",
       "      <th>age</th>\n",
       "      <th>workclass</th>\n",
       "      <th>marital_status</th>\n",
       "      <th>occupation</th>\n",
       "      <th>race</th>\n",
       "      <th>sex</th>\n",
       "      <th>native_country</th>\n",
       "      <th>income</th>\n",
       "    </tr>\n",
       "  </thead>\n",
       "  <tbody>\n",
       "    <tr>\n",
       "      <th>0</th>\n",
       "      <td>20</td>\n",
       "      <td>*</td>\n",
       "      <td>Married-civ-spouse</td>\n",
       "      <td>*</td>\n",
       "      <td>White</td>\n",
       "      <td>Male</td>\n",
       "      <td>United-States</td>\n",
       "      <td>0</td>\n",
       "    </tr>\n",
       "    <tr>\n",
       "      <th>1</th>\n",
       "      <td>20</td>\n",
       "      <td>*</td>\n",
       "      <td>Married-civ-spouse</td>\n",
       "      <td>*</td>\n",
       "      <td>White</td>\n",
       "      <td>Male</td>\n",
       "      <td>United-States</td>\n",
       "      <td>0</td>\n",
       "    </tr>\n",
       "    <tr>\n",
       "      <th>2</th>\n",
       "      <td>20</td>\n",
       "      <td>*</td>\n",
       "      <td>Married-civ-spouse</td>\n",
       "      <td>*</td>\n",
       "      <td>White</td>\n",
       "      <td>Male</td>\n",
       "      <td>United-States</td>\n",
       "      <td>0</td>\n",
       "    </tr>\n",
       "    <tr>\n",
       "      <th>3</th>\n",
       "      <td>20</td>\n",
       "      <td>*</td>\n",
       "      <td>Married-civ-spouse</td>\n",
       "      <td>*</td>\n",
       "      <td>White</td>\n",
       "      <td>Male</td>\n",
       "      <td>United-States</td>\n",
       "      <td>0</td>\n",
       "    </tr>\n",
       "    <tr>\n",
       "      <th>4</th>\n",
       "      <td>15-19</td>\n",
       "      <td>Non-Government</td>\n",
       "      <td>Married-civ-spouse</td>\n",
       "      <td>Technical</td>\n",
       "      <td>White</td>\n",
       "      <td>Male</td>\n",
       "      <td>United-States</td>\n",
       "      <td>0</td>\n",
       "    </tr>\n",
       "  </tbody>\n",
       "</table>\n",
       "</div>"
      ],
      "text/plain": [
       "     age       workclass      marital_status occupation   race   sex  \\\n",
       "0     20               *  Married-civ-spouse          *  White  Male   \n",
       "1     20               *  Married-civ-spouse          *  White  Male   \n",
       "2     20               *  Married-civ-spouse          *  White  Male   \n",
       "3     20               *  Married-civ-spouse          *  White  Male   \n",
       "4  15-19  Non-Government  Married-civ-spouse  Technical  White  Male   \n",
       "\n",
       "  native_country  income  \n",
       "0  United-States       0  \n",
       "1  United-States       0  \n",
       "2  United-States       0  \n",
       "3  United-States       0  \n",
       "4  United-States       0  "
      ]
     },
     "execution_count": 3,
     "metadata": {},
     "output_type": "execute_result"
    }
   ],
   "source": [
    "df_kanony.head()"
   ]
  },
  {
   "cell_type": "code",
   "execution_count": 4,
   "id": "5693f2fb",
   "metadata": {},
   "outputs": [
    {
     "data": {
      "text/plain": [
       "(30162, 8)"
      ]
     },
     "execution_count": 4,
     "metadata": {},
     "output_type": "execute_result"
    }
   ],
   "source": [
    "df_kanony.shape"
   ]
  },
  {
   "cell_type": "markdown",
   "id": "887f1308",
   "metadata": {},
   "source": [
    "#### Extracting fair data "
   ]
  },
  {
   "cell_type": "code",
   "execution_count": 5,
   "id": "d519fff4",
   "metadata": {},
   "outputs": [],
   "source": [
    "df_fair_anony = pd.read_csv(r'C:\\Users\\Neha Sharma\\Desktop\\Security and Privacy\\Project\\Github\\Final Results\\anonymised\\Zafar_Fair_Adult_anonymised.csv');"
   ]
  },
  {
   "cell_type": "code",
   "execution_count": 6,
   "id": "b8220212",
   "metadata": {},
   "outputs": [
    {
     "data": {
      "text/html": [
       "<div>\n",
       "<style scoped>\n",
       "    .dataframe tbody tr th:only-of-type {\n",
       "        vertical-align: middle;\n",
       "    }\n",
       "\n",
       "    .dataframe tbody tr th {\n",
       "        vertical-align: top;\n",
       "    }\n",
       "\n",
       "    .dataframe thead th {\n",
       "        text-align: right;\n",
       "    }\n",
       "</style>\n",
       "<table border=\"1\" class=\"dataframe\">\n",
       "  <thead>\n",
       "    <tr style=\"text-align: right;\">\n",
       "      <th></th>\n",
       "      <th>ID</th>\n",
       "      <th>sex</th>\n",
       "      <th>age</th>\n",
       "      <th>race</th>\n",
       "      <th>marital-status</th>\n",
       "      <th>native-country</th>\n",
       "      <th>workclass</th>\n",
       "      <th>occupation</th>\n",
       "      <th>salary-class</th>\n",
       "    </tr>\n",
       "  </thead>\n",
       "  <tbody>\n",
       "    <tr>\n",
       "      <th>0</th>\n",
       "      <td>1561</td>\n",
       "      <td>Male</td>\n",
       "      <td>15-19</td>\n",
       "      <td>White</td>\n",
       "      <td>Married-civ-spouse</td>\n",
       "      <td>United-States</td>\n",
       "      <td>Private</td>\n",
       "      <td>Craft-repair</td>\n",
       "      <td>&lt;=50K</td>\n",
       "    </tr>\n",
       "    <tr>\n",
       "      <th>1</th>\n",
       "      <td>1692</td>\n",
       "      <td>Male</td>\n",
       "      <td>15-19</td>\n",
       "      <td>White</td>\n",
       "      <td>Married-civ-spouse</td>\n",
       "      <td>United-States</td>\n",
       "      <td>Private</td>\n",
       "      <td>Craft-repair</td>\n",
       "      <td>&lt;=50K</td>\n",
       "    </tr>\n",
       "    <tr>\n",
       "      <th>2</th>\n",
       "      <td>1727</td>\n",
       "      <td>Male</td>\n",
       "      <td>15-19</td>\n",
       "      <td>White</td>\n",
       "      <td>Married-civ-spouse</td>\n",
       "      <td>United-States</td>\n",
       "      <td>Private</td>\n",
       "      <td>Craft-repair</td>\n",
       "      <td>&lt;=50K</td>\n",
       "    </tr>\n",
       "    <tr>\n",
       "      <th>3</th>\n",
       "      <td>4578</td>\n",
       "      <td>Male</td>\n",
       "      <td>15-19</td>\n",
       "      <td>White</td>\n",
       "      <td>Married-civ-spouse</td>\n",
       "      <td>United-States</td>\n",
       "      <td>Private</td>\n",
       "      <td>Craft-repair</td>\n",
       "      <td>&lt;=50K</td>\n",
       "    </tr>\n",
       "    <tr>\n",
       "      <th>4</th>\n",
       "      <td>7187</td>\n",
       "      <td>Male</td>\n",
       "      <td>15-19</td>\n",
       "      <td>White</td>\n",
       "      <td>Married-civ-spouse</td>\n",
       "      <td>United-States</td>\n",
       "      <td>Private</td>\n",
       "      <td>Craft-repair</td>\n",
       "      <td>&lt;=50K</td>\n",
       "    </tr>\n",
       "    <tr>\n",
       "      <th>...</th>\n",
       "      <td>...</td>\n",
       "      <td>...</td>\n",
       "      <td>...</td>\n",
       "      <td>...</td>\n",
       "      <td>...</td>\n",
       "      <td>...</td>\n",
       "      <td>...</td>\n",
       "      <td>...</td>\n",
       "      <td>...</td>\n",
       "    </tr>\n",
       "    <tr>\n",
       "      <th>13562</th>\n",
       "      <td>13306</td>\n",
       "      <td>Female</td>\n",
       "      <td>80-89</td>\n",
       "      <td>White</td>\n",
       "      <td>spouse not present</td>\n",
       "      <td>United-States</td>\n",
       "      <td>*</td>\n",
       "      <td>Other</td>\n",
       "      <td>&lt;=50K</td>\n",
       "    </tr>\n",
       "    <tr>\n",
       "      <th>13563</th>\n",
       "      <td>862</td>\n",
       "      <td>Female</td>\n",
       "      <td>80-89</td>\n",
       "      <td>*</td>\n",
       "      <td>*</td>\n",
       "      <td>United-States</td>\n",
       "      <td>Non-Government</td>\n",
       "      <td>Nontechnical</td>\n",
       "      <td>&lt;=50K</td>\n",
       "    </tr>\n",
       "    <tr>\n",
       "      <th>13564</th>\n",
       "      <td>1215</td>\n",
       "      <td>Female</td>\n",
       "      <td>80-89</td>\n",
       "      <td>*</td>\n",
       "      <td>*</td>\n",
       "      <td>United-States</td>\n",
       "      <td>Non-Government</td>\n",
       "      <td>Nontechnical</td>\n",
       "      <td>&lt;=50K</td>\n",
       "    </tr>\n",
       "    <tr>\n",
       "      <th>13565</th>\n",
       "      <td>1472</td>\n",
       "      <td>Female</td>\n",
       "      <td>80-89</td>\n",
       "      <td>*</td>\n",
       "      <td>*</td>\n",
       "      <td>United-States</td>\n",
       "      <td>Non-Government</td>\n",
       "      <td>Nontechnical</td>\n",
       "      <td>&lt;=50K</td>\n",
       "    </tr>\n",
       "    <tr>\n",
       "      <th>13566</th>\n",
       "      <td>2370</td>\n",
       "      <td>Female</td>\n",
       "      <td>80-89</td>\n",
       "      <td>*</td>\n",
       "      <td>*</td>\n",
       "      <td>United-States</td>\n",
       "      <td>Non-Government</td>\n",
       "      <td>Nontechnical</td>\n",
       "      <td>&lt;=50K</td>\n",
       "    </tr>\n",
       "  </tbody>\n",
       "</table>\n",
       "<p>13567 rows × 9 columns</p>\n",
       "</div>"
      ],
      "text/plain": [
       "          ID     sex    age   race      marital-status native-country  \\\n",
       "0       1561    Male  15-19  White  Married-civ-spouse  United-States   \n",
       "1       1692    Male  15-19  White  Married-civ-spouse  United-States   \n",
       "2       1727    Male  15-19  White  Married-civ-spouse  United-States   \n",
       "3       4578    Male  15-19  White  Married-civ-spouse  United-States   \n",
       "4       7187    Male  15-19  White  Married-civ-spouse  United-States   \n",
       "...      ...     ...    ...    ...                 ...            ...   \n",
       "13562  13306  Female  80-89  White  spouse not present  United-States   \n",
       "13563    862  Female  80-89      *                   *  United-States   \n",
       "13564   1215  Female  80-89      *                   *  United-States   \n",
       "13565   1472  Female  80-89      *                   *  United-States   \n",
       "13566   2370  Female  80-89      *                   *  United-States   \n",
       "\n",
       "            workclass    occupation salary-class  \n",
       "0             Private  Craft-repair        <=50K  \n",
       "1             Private  Craft-repair        <=50K  \n",
       "2             Private  Craft-repair        <=50K  \n",
       "3             Private  Craft-repair        <=50K  \n",
       "4             Private  Craft-repair        <=50K  \n",
       "...               ...           ...          ...  \n",
       "13562               *         Other        <=50K  \n",
       "13563  Non-Government  Nontechnical        <=50K  \n",
       "13564  Non-Government  Nontechnical        <=50K  \n",
       "13565  Non-Government  Nontechnical        <=50K  \n",
       "13566  Non-Government  Nontechnical        <=50K  \n",
       "\n",
       "[13567 rows x 9 columns]"
      ]
     },
     "execution_count": 6,
     "metadata": {},
     "output_type": "execute_result"
    }
   ],
   "source": [
    "df_fair_anony"
   ]
  },
  {
   "cell_type": "code",
   "execution_count": 7,
   "id": "9a121060",
   "metadata": {},
   "outputs": [
    {
     "data": {
      "text/plain": [
       "(13567, 9)"
      ]
     },
     "execution_count": 7,
     "metadata": {},
     "output_type": "execute_result"
    }
   ],
   "source": [
    "df_fair_anony.shape"
   ]
  },
  {
   "cell_type": "markdown",
   "id": "9267908a",
   "metadata": {},
   "source": [
    "# Cloning the dataset"
   ]
  },
  {
   "cell_type": "code",
   "execution_count": 8,
   "id": "18edf34d",
   "metadata": {},
   "outputs": [],
   "source": [
    "df_kanony_clone = df_kanony.copy() "
   ]
  },
  {
   "cell_type": "code",
   "execution_count": 9,
   "id": "76b2aa7f",
   "metadata": {},
   "outputs": [],
   "source": [
    "df_fair_anony_clone = df_fair_anony.copy()"
   ]
  },
  {
   "cell_type": "code",
   "execution_count": 10,
   "id": "862f2a1d",
   "metadata": {},
   "outputs": [
    {
     "data": {
      "text/html": [
       "<div>\n",
       "<style scoped>\n",
       "    .dataframe tbody tr th:only-of-type {\n",
       "        vertical-align: middle;\n",
       "    }\n",
       "\n",
       "    .dataframe tbody tr th {\n",
       "        vertical-align: top;\n",
       "    }\n",
       "\n",
       "    .dataframe thead th {\n",
       "        text-align: right;\n",
       "    }\n",
       "</style>\n",
       "<table border=\"1\" class=\"dataframe\">\n",
       "  <thead>\n",
       "    <tr style=\"text-align: right;\">\n",
       "      <th></th>\n",
       "      <th>age</th>\n",
       "      <th>workclass</th>\n",
       "      <th>marital_status</th>\n",
       "      <th>occupation</th>\n",
       "      <th>race</th>\n",
       "      <th>sex</th>\n",
       "      <th>native_country</th>\n",
       "      <th>income</th>\n",
       "    </tr>\n",
       "  </thead>\n",
       "  <tbody>\n",
       "    <tr>\n",
       "      <th>0</th>\n",
       "      <td>20</td>\n",
       "      <td>*</td>\n",
       "      <td>Married-civ-spouse</td>\n",
       "      <td>*</td>\n",
       "      <td>White</td>\n",
       "      <td>Male</td>\n",
       "      <td>United-States</td>\n",
       "      <td>0</td>\n",
       "    </tr>\n",
       "    <tr>\n",
       "      <th>1</th>\n",
       "      <td>20</td>\n",
       "      <td>*</td>\n",
       "      <td>Married-civ-spouse</td>\n",
       "      <td>*</td>\n",
       "      <td>White</td>\n",
       "      <td>Male</td>\n",
       "      <td>United-States</td>\n",
       "      <td>0</td>\n",
       "    </tr>\n",
       "    <tr>\n",
       "      <th>2</th>\n",
       "      <td>20</td>\n",
       "      <td>*</td>\n",
       "      <td>Married-civ-spouse</td>\n",
       "      <td>*</td>\n",
       "      <td>White</td>\n",
       "      <td>Male</td>\n",
       "      <td>United-States</td>\n",
       "      <td>0</td>\n",
       "    </tr>\n",
       "    <tr>\n",
       "      <th>3</th>\n",
       "      <td>20</td>\n",
       "      <td>*</td>\n",
       "      <td>Married-civ-spouse</td>\n",
       "      <td>*</td>\n",
       "      <td>White</td>\n",
       "      <td>Male</td>\n",
       "      <td>United-States</td>\n",
       "      <td>0</td>\n",
       "    </tr>\n",
       "    <tr>\n",
       "      <th>4</th>\n",
       "      <td>15-19</td>\n",
       "      <td>Non-Government</td>\n",
       "      <td>Married-civ-spouse</td>\n",
       "      <td>Technical</td>\n",
       "      <td>White</td>\n",
       "      <td>Male</td>\n",
       "      <td>United-States</td>\n",
       "      <td>0</td>\n",
       "    </tr>\n",
       "  </tbody>\n",
       "</table>\n",
       "</div>"
      ],
      "text/plain": [
       "     age       workclass      marital_status occupation   race   sex  \\\n",
       "0     20               *  Married-civ-spouse          *  White  Male   \n",
       "1     20               *  Married-civ-spouse          *  White  Male   \n",
       "2     20               *  Married-civ-spouse          *  White  Male   \n",
       "3     20               *  Married-civ-spouse          *  White  Male   \n",
       "4  15-19  Non-Government  Married-civ-spouse  Technical  White  Male   \n",
       "\n",
       "  native_country  income  \n",
       "0  United-States       0  \n",
       "1  United-States       0  \n",
       "2  United-States       0  \n",
       "3  United-States       0  \n",
       "4  United-States       0  "
      ]
     },
     "execution_count": 10,
     "metadata": {},
     "output_type": "execute_result"
    }
   ],
   "source": [
    "df_kanony_clone.head()"
   ]
  },
  {
   "cell_type": "code",
   "execution_count": 11,
   "id": "0183f00f",
   "metadata": {},
   "outputs": [
    {
     "data": {
      "text/html": [
       "<div>\n",
       "<style scoped>\n",
       "    .dataframe tbody tr th:only-of-type {\n",
       "        vertical-align: middle;\n",
       "    }\n",
       "\n",
       "    .dataframe tbody tr th {\n",
       "        vertical-align: top;\n",
       "    }\n",
       "\n",
       "    .dataframe thead th {\n",
       "        text-align: right;\n",
       "    }\n",
       "</style>\n",
       "<table border=\"1\" class=\"dataframe\">\n",
       "  <thead>\n",
       "    <tr style=\"text-align: right;\">\n",
       "      <th></th>\n",
       "      <th>race</th>\n",
       "      <th>sex</th>\n",
       "      <th>income</th>\n",
       "    </tr>\n",
       "  </thead>\n",
       "  <tbody>\n",
       "    <tr>\n",
       "      <th>0</th>\n",
       "      <td>White</td>\n",
       "      <td>Male</td>\n",
       "      <td>0</td>\n",
       "    </tr>\n",
       "    <tr>\n",
       "      <th>1</th>\n",
       "      <td>White</td>\n",
       "      <td>Male</td>\n",
       "      <td>0</td>\n",
       "    </tr>\n",
       "    <tr>\n",
       "      <th>2</th>\n",
       "      <td>White</td>\n",
       "      <td>Male</td>\n",
       "      <td>0</td>\n",
       "    </tr>\n",
       "    <tr>\n",
       "      <th>3</th>\n",
       "      <td>White</td>\n",
       "      <td>Male</td>\n",
       "      <td>0</td>\n",
       "    </tr>\n",
       "    <tr>\n",
       "      <th>4</th>\n",
       "      <td>White</td>\n",
       "      <td>Male</td>\n",
       "      <td>0</td>\n",
       "    </tr>\n",
       "  </tbody>\n",
       "</table>\n",
       "</div>"
      ],
      "text/plain": [
       "    race   sex  income\n",
       "0  White  Male       0\n",
       "1  White  Male       0\n",
       "2  White  Male       0\n",
       "3  White  Male       0\n",
       "4  White  Male       0"
      ]
     },
     "execution_count": 11,
     "metadata": {},
     "output_type": "execute_result"
    }
   ],
   "source": [
    "df_kanony_clone = df_kanony_clone.drop(['age','workclass','marital_status','occupation','native_country'],axis=1)\n",
    "df_kanony_clone.head()"
   ]
  },
  {
   "cell_type": "markdown",
   "id": "2b177112",
   "metadata": {},
   "source": [
    "# Percentage of male and female income in Anonymized data"
   ]
  },
  {
   "cell_type": "code",
   "execution_count": 12,
   "id": "a30edb84",
   "metadata": {},
   "outputs": [
    {
     "name": "stdout",
     "output_type": "stream",
     "text": [
      "male_income_0= 13984 \n",
      "male_income_1= 6396 \n",
      "female_income_0= 8670 \n",
      "female_income_1= 1112\n"
     ]
    }
   ],
   "source": [
    "male_income_0=0\n",
    "male_income_1=0\n",
    "female_income_0=0\n",
    "female_income_1=0\n",
    "for i in range(len(df_kanony_clone)):\n",
    "    #print(i)\n",
    "    #print(df_kanony_clone.iloc[i][1])\n",
    "    if df_kanony_clone.iloc[i][1] == 'Male':\n",
    "        if df_kanony_clone.iloc[i][2] == 0:\n",
    "            male_income_0 += 1\n",
    "        else:\n",
    "            male_income_1 += 1\n",
    "    else:\n",
    "        if df_kanony_clone.iloc[i][2] == 0:\n",
    "            female_income_0 += 1\n",
    "        else:\n",
    "            female_income_1 += 1\n",
    "print(\"male_income_0=\",male_income_0,\"\\nmale_income_1=\", male_income_1, \"\\nfemale_income_0=\", female_income_0, \"\\nfemale_income_1=\",female_income_1)"
   ]
  },
  {
   "cell_type": "code",
   "execution_count": 13,
   "id": "8a3dbf9a",
   "metadata": {},
   "outputs": [
    {
     "name": "stdout",
     "output_type": "stream",
     "text": [
      "46.36297327763411 %\n",
      "21.205490352098664 %\n",
      "28.744778197732245 %\n",
      "3.6867581725349776 %\n"
     ]
    }
   ],
   "source": [
    "males_income_0_percent=(male_income_0/len(df_kanony_clone))*100\n",
    "males_income_1_percent=(male_income_1/len(df_kanony_clone))*100\n",
    "females_income_0_percent=(female_income_0/len(df_kanony_clone))*100\n",
    "females_income_1_percent=(female_income_1/len(df_kanony_clone))*100\n",
    "\n",
    "print(males_income_0_percent,\"%\")\n",
    "print(males_income_1_percent,\"%\")\n",
    "print(females_income_0_percent,\"%\")\n",
    "print(females_income_1_percent,\"%\")"
   ]
  },
  {
   "cell_type": "markdown",
   "id": "1742064f",
   "metadata": {},
   "source": [
    "# Percentage of male and female income in Fair Anonymized data ZAFAR"
   ]
  },
  {
   "cell_type": "code",
   "execution_count": 14,
   "id": "80f51ea6",
   "metadata": {},
   "outputs": [
    {
     "data": {
      "text/html": [
       "<div>\n",
       "<style scoped>\n",
       "    .dataframe tbody tr th:only-of-type {\n",
       "        vertical-align: middle;\n",
       "    }\n",
       "\n",
       "    .dataframe tbody tr th {\n",
       "        vertical-align: top;\n",
       "    }\n",
       "\n",
       "    .dataframe thead th {\n",
       "        text-align: right;\n",
       "    }\n",
       "</style>\n",
       "<table border=\"1\" class=\"dataframe\">\n",
       "  <thead>\n",
       "    <tr style=\"text-align: right;\">\n",
       "      <th></th>\n",
       "      <th>ID</th>\n",
       "      <th>sex</th>\n",
       "      <th>age</th>\n",
       "      <th>race</th>\n",
       "      <th>marital-status</th>\n",
       "      <th>native-country</th>\n",
       "      <th>workclass</th>\n",
       "      <th>occupation</th>\n",
       "      <th>salary-class</th>\n",
       "    </tr>\n",
       "  </thead>\n",
       "  <tbody>\n",
       "    <tr>\n",
       "      <th>0</th>\n",
       "      <td>1561</td>\n",
       "      <td>Male</td>\n",
       "      <td>15-19</td>\n",
       "      <td>White</td>\n",
       "      <td>Married-civ-spouse</td>\n",
       "      <td>United-States</td>\n",
       "      <td>Private</td>\n",
       "      <td>Craft-repair</td>\n",
       "      <td>&lt;=50K</td>\n",
       "    </tr>\n",
       "    <tr>\n",
       "      <th>1</th>\n",
       "      <td>1692</td>\n",
       "      <td>Male</td>\n",
       "      <td>15-19</td>\n",
       "      <td>White</td>\n",
       "      <td>Married-civ-spouse</td>\n",
       "      <td>United-States</td>\n",
       "      <td>Private</td>\n",
       "      <td>Craft-repair</td>\n",
       "      <td>&lt;=50K</td>\n",
       "    </tr>\n",
       "    <tr>\n",
       "      <th>2</th>\n",
       "      <td>1727</td>\n",
       "      <td>Male</td>\n",
       "      <td>15-19</td>\n",
       "      <td>White</td>\n",
       "      <td>Married-civ-spouse</td>\n",
       "      <td>United-States</td>\n",
       "      <td>Private</td>\n",
       "      <td>Craft-repair</td>\n",
       "      <td>&lt;=50K</td>\n",
       "    </tr>\n",
       "    <tr>\n",
       "      <th>3</th>\n",
       "      <td>4578</td>\n",
       "      <td>Male</td>\n",
       "      <td>15-19</td>\n",
       "      <td>White</td>\n",
       "      <td>Married-civ-spouse</td>\n",
       "      <td>United-States</td>\n",
       "      <td>Private</td>\n",
       "      <td>Craft-repair</td>\n",
       "      <td>&lt;=50K</td>\n",
       "    </tr>\n",
       "    <tr>\n",
       "      <th>4</th>\n",
       "      <td>7187</td>\n",
       "      <td>Male</td>\n",
       "      <td>15-19</td>\n",
       "      <td>White</td>\n",
       "      <td>Married-civ-spouse</td>\n",
       "      <td>United-States</td>\n",
       "      <td>Private</td>\n",
       "      <td>Craft-repair</td>\n",
       "      <td>&lt;=50K</td>\n",
       "    </tr>\n",
       "  </tbody>\n",
       "</table>\n",
       "</div>"
      ],
      "text/plain": [
       "     ID   sex    age   race      marital-status native-country workclass  \\\n",
       "0  1561  Male  15-19  White  Married-civ-spouse  United-States   Private   \n",
       "1  1692  Male  15-19  White  Married-civ-spouse  United-States   Private   \n",
       "2  1727  Male  15-19  White  Married-civ-spouse  United-States   Private   \n",
       "3  4578  Male  15-19  White  Married-civ-spouse  United-States   Private   \n",
       "4  7187  Male  15-19  White  Married-civ-spouse  United-States   Private   \n",
       "\n",
       "     occupation salary-class  \n",
       "0  Craft-repair        <=50K  \n",
       "1  Craft-repair        <=50K  \n",
       "2  Craft-repair        <=50K  \n",
       "3  Craft-repair        <=50K  \n",
       "4  Craft-repair        <=50K  "
      ]
     },
     "execution_count": 14,
     "metadata": {},
     "output_type": "execute_result"
    }
   ],
   "source": [
    "df_fair_anony_clone.head()"
   ]
  },
  {
   "cell_type": "code",
   "execution_count": 15,
   "id": "fe3f3828",
   "metadata": {},
   "outputs": [
    {
     "data": {
      "text/html": [
       "<div>\n",
       "<style scoped>\n",
       "    .dataframe tbody tr th:only-of-type {\n",
       "        vertical-align: middle;\n",
       "    }\n",
       "\n",
       "    .dataframe tbody tr th {\n",
       "        vertical-align: top;\n",
       "    }\n",
       "\n",
       "    .dataframe thead th {\n",
       "        text-align: right;\n",
       "    }\n",
       "</style>\n",
       "<table border=\"1\" class=\"dataframe\">\n",
       "  <thead>\n",
       "    <tr style=\"text-align: right;\">\n",
       "      <th></th>\n",
       "      <th>sex</th>\n",
       "      <th>race</th>\n",
       "      <th>salary-class</th>\n",
       "    </tr>\n",
       "  </thead>\n",
       "  <tbody>\n",
       "    <tr>\n",
       "      <th>0</th>\n",
       "      <td>Male</td>\n",
       "      <td>White</td>\n",
       "      <td>&lt;=50K</td>\n",
       "    </tr>\n",
       "    <tr>\n",
       "      <th>1</th>\n",
       "      <td>Male</td>\n",
       "      <td>White</td>\n",
       "      <td>&lt;=50K</td>\n",
       "    </tr>\n",
       "    <tr>\n",
       "      <th>2</th>\n",
       "      <td>Male</td>\n",
       "      <td>White</td>\n",
       "      <td>&lt;=50K</td>\n",
       "    </tr>\n",
       "    <tr>\n",
       "      <th>3</th>\n",
       "      <td>Male</td>\n",
       "      <td>White</td>\n",
       "      <td>&lt;=50K</td>\n",
       "    </tr>\n",
       "    <tr>\n",
       "      <th>4</th>\n",
       "      <td>Male</td>\n",
       "      <td>White</td>\n",
       "      <td>&lt;=50K</td>\n",
       "    </tr>\n",
       "  </tbody>\n",
       "</table>\n",
       "</div>"
      ],
      "text/plain": [
       "    sex   race salary-class\n",
       "0  Male  White        <=50K\n",
       "1  Male  White        <=50K\n",
       "2  Male  White        <=50K\n",
       "3  Male  White        <=50K\n",
       "4  Male  White        <=50K"
      ]
     },
     "execution_count": 15,
     "metadata": {},
     "output_type": "execute_result"
    }
   ],
   "source": [
    "df_fair_anony_clone = df_fair_anony_clone.drop(['ID','age','workclass','marital-status','occupation','native-country'],axis=1)\n",
    "df_fair_anony_clone.head()"
   ]
  },
  {
   "cell_type": "code",
   "execution_count": 16,
   "id": "8be12f16",
   "metadata": {},
   "outputs": [
    {
     "data": {
      "text/plain": [
       "13567"
      ]
     },
     "execution_count": 16,
     "metadata": {},
     "output_type": "execute_result"
    }
   ],
   "source": [
    "(df_fair_anony_clone['sex']=='Male').count()"
   ]
  },
  {
   "cell_type": "code",
   "execution_count": 17,
   "id": "bbb3eb4e",
   "metadata": {},
   "outputs": [
    {
     "data": {
      "text/plain": [
       "(13567, 3)"
      ]
     },
     "execution_count": 17,
     "metadata": {},
     "output_type": "execute_result"
    }
   ],
   "source": [
    "df_fair_anony_clone.shape"
   ]
  },
  {
   "cell_type": "code",
   "execution_count": 20,
   "id": "0c363568",
   "metadata": {},
   "outputs": [
    {
     "name": "stdout",
     "output_type": "stream",
     "text": [
      "male_income_0= 6067 \n",
      "male_income_1= 3101 \n",
      "female_income_0= 3754 \n",
      "female_income_1= 645\n"
     ]
    }
   ],
   "source": [
    "male_income_0=0\n",
    "male_income_1=0\n",
    "female_income_0=0\n",
    "female_income_1=0\n",
    "for i in range(len(df_fair_anony_clone)):\n",
    "    #print(\"i:\",i)\n",
    "    #print(\"df_kanony_clone.iloc[i][0]:\", df_kanony_clone.iloc[i][0])\n",
    "    if df_fair_anony_clone.iloc[i][0] == 'Male':\n",
    "        #print(\"df_kanony_clone.iloc[i][2]:\",df_kanony_clone.iloc[i][2])\n",
    "        if df_fair_anony_clone.iloc[i][2] == '<=50K':\n",
    "            male_income_0 += 1\n",
    "            #print(\"male_income_0:\", male_income_0)\n",
    "        else:\n",
    "            male_income_1 += 1\n",
    "            #print(\"male_income_1:\", male_income_1)\n",
    "    else:\n",
    "        if df_fair_anony_clone.iloc[i][2] == '<=50K':\n",
    "            female_income_0 += 1\n",
    "            #print(\"female_income_0:\", female_income_0)\n",
    "        else:\n",
    "            female_income_1 += 1\n",
    "            #print(\"female_income_1:\", female_income_1)\n",
    "print(\"male_income_0=\",male_income_0,\"\\nmale_income_1=\", male_income_1, \"\\nfemale_income_0=\", female_income_0, \"\\nfemale_income_1=\",female_income_1)"
   ]
  },
  {
   "cell_type": "code",
   "execution_count": 21,
   "id": "86099ab0",
   "metadata": {},
   "outputs": [
    {
     "name": "stdout",
     "output_type": "stream",
     "text": [
      "44.718802977813816 %\n",
      "22.856932262106582 %\n",
      "27.670081816171592 %\n",
      "4.754182943908012 %\n"
     ]
    }
   ],
   "source": [
    "males_income_0_percent=(male_income_0/len(df_fair_anony_clone))*100\n",
    "males_income_1_percent=(male_income_1/len(df_fair_anony_clone))*100\n",
    "females_income_0_percent=(female_income_0/len(df_fair_anony_clone))*100\n",
    "females_income_1_percent=(female_income_1/len(df_fair_anony_clone))*100\n",
    "\n",
    "print(males_income_0_percent,\"%\")\n",
    "print(males_income_1_percent,\"%\")\n",
    "print(females_income_0_percent,\"%\")\n",
    "print(females_income_1_percent,\"%\")"
   ]
  },
  {
   "cell_type": "markdown",
   "id": "5f076b0c",
   "metadata": {},
   "source": [
    "# Percentage of male and female income in Original raw data"
   ]
  },
  {
   "cell_type": "code",
   "execution_count": 22,
   "id": "c1015ed2",
   "metadata": {},
   "outputs": [],
   "source": [
    "df_original_raw = pd.read_csv(r'C:\\Users\\Neha Sharma\\Desktop\\Security and Privacy\\Project\\Github\\Final Results\\anonymised\\Original_Raw_data.csv');"
   ]
  },
  {
   "cell_type": "code",
   "execution_count": 23,
   "id": "00742528",
   "metadata": {},
   "outputs": [
    {
     "data": {
      "text/html": [
       "<div>\n",
       "<style scoped>\n",
       "    .dataframe tbody tr th:only-of-type {\n",
       "        vertical-align: middle;\n",
       "    }\n",
       "\n",
       "    .dataframe tbody tr th {\n",
       "        vertical-align: top;\n",
       "    }\n",
       "\n",
       "    .dataframe thead th {\n",
       "        text-align: right;\n",
       "    }\n",
       "</style>\n",
       "<table border=\"1\" class=\"dataframe\">\n",
       "  <thead>\n",
       "    <tr style=\"text-align: right;\">\n",
       "      <th></th>\n",
       "      <th>age</th>\n",
       "      <th>workclass</th>\n",
       "      <th>edu_level</th>\n",
       "      <th>marital_status</th>\n",
       "      <th>occupation</th>\n",
       "      <th>relationship</th>\n",
       "      <th>race</th>\n",
       "      <th>sex</th>\n",
       "      <th>hours_per_week</th>\n",
       "      <th>native_country</th>\n",
       "      <th>income</th>\n",
       "    </tr>\n",
       "  </thead>\n",
       "  <tbody>\n",
       "    <tr>\n",
       "      <th>0</th>\n",
       "      <td>25</td>\n",
       "      <td>Private</td>\n",
       "      <td>7</td>\n",
       "      <td>Never-married</td>\n",
       "      <td>Machine-op-inspct</td>\n",
       "      <td>Own-child</td>\n",
       "      <td>Black</td>\n",
       "      <td>Male</td>\n",
       "      <td>40</td>\n",
       "      <td>United-States</td>\n",
       "      <td>0</td>\n",
       "    </tr>\n",
       "    <tr>\n",
       "      <th>1</th>\n",
       "      <td>38</td>\n",
       "      <td>Private</td>\n",
       "      <td>9</td>\n",
       "      <td>Married-civ-spouse</td>\n",
       "      <td>Farming-fishing</td>\n",
       "      <td>Husband</td>\n",
       "      <td>White</td>\n",
       "      <td>Male</td>\n",
       "      <td>50</td>\n",
       "      <td>United-States</td>\n",
       "      <td>0</td>\n",
       "    </tr>\n",
       "    <tr>\n",
       "      <th>2</th>\n",
       "      <td>28</td>\n",
       "      <td>Local-gov</td>\n",
       "      <td>12</td>\n",
       "      <td>Married-civ-spouse</td>\n",
       "      <td>Protective-serv</td>\n",
       "      <td>Husband</td>\n",
       "      <td>White</td>\n",
       "      <td>Male</td>\n",
       "      <td>40</td>\n",
       "      <td>United-States</td>\n",
       "      <td>1</td>\n",
       "    </tr>\n",
       "    <tr>\n",
       "      <th>3</th>\n",
       "      <td>44</td>\n",
       "      <td>Private</td>\n",
       "      <td>10</td>\n",
       "      <td>Married-civ-spouse</td>\n",
       "      <td>Machine-op-inspct</td>\n",
       "      <td>Husband</td>\n",
       "      <td>Black</td>\n",
       "      <td>Male</td>\n",
       "      <td>40</td>\n",
       "      <td>United-States</td>\n",
       "      <td>1</td>\n",
       "    </tr>\n",
       "    <tr>\n",
       "      <th>4</th>\n",
       "      <td>34</td>\n",
       "      <td>Private</td>\n",
       "      <td>6</td>\n",
       "      <td>Never-married</td>\n",
       "      <td>Other-service</td>\n",
       "      <td>Not-in-family</td>\n",
       "      <td>White</td>\n",
       "      <td>Male</td>\n",
       "      <td>30</td>\n",
       "      <td>United-States</td>\n",
       "      <td>0</td>\n",
       "    </tr>\n",
       "  </tbody>\n",
       "</table>\n",
       "</div>"
      ],
      "text/plain": [
       "   age  workclass  edu_level      marital_status         occupation  \\\n",
       "0   25    Private          7       Never-married  Machine-op-inspct   \n",
       "1   38    Private          9  Married-civ-spouse    Farming-fishing   \n",
       "2   28  Local-gov         12  Married-civ-spouse    Protective-serv   \n",
       "3   44    Private         10  Married-civ-spouse  Machine-op-inspct   \n",
       "4   34    Private          6       Never-married      Other-service   \n",
       "\n",
       "    relationship   race   sex  hours_per_week native_country  income  \n",
       "0      Own-child  Black  Male              40  United-States       0  \n",
       "1        Husband  White  Male              50  United-States       0  \n",
       "2        Husband  White  Male              40  United-States       1  \n",
       "3        Husband  Black  Male              40  United-States       1  \n",
       "4  Not-in-family  White  Male              30  United-States       0  "
      ]
     },
     "execution_count": 23,
     "metadata": {},
     "output_type": "execute_result"
    }
   ],
   "source": [
    "df_original_raw.head()"
   ]
  },
  {
   "cell_type": "code",
   "execution_count": 24,
   "id": "fd0cb115",
   "metadata": {},
   "outputs": [],
   "source": [
    "df_original_raw_clone = df_original_raw.copy()"
   ]
  },
  {
   "cell_type": "code",
   "execution_count": 25,
   "id": "41bb5ba5",
   "metadata": {},
   "outputs": [
    {
     "data": {
      "text/html": [
       "<div>\n",
       "<style scoped>\n",
       "    .dataframe tbody tr th:only-of-type {\n",
       "        vertical-align: middle;\n",
       "    }\n",
       "\n",
       "    .dataframe tbody tr th {\n",
       "        vertical-align: top;\n",
       "    }\n",
       "\n",
       "    .dataframe thead th {\n",
       "        text-align: right;\n",
       "    }\n",
       "</style>\n",
       "<table border=\"1\" class=\"dataframe\">\n",
       "  <thead>\n",
       "    <tr style=\"text-align: right;\">\n",
       "      <th></th>\n",
       "      <th>race</th>\n",
       "      <th>sex</th>\n",
       "      <th>income</th>\n",
       "    </tr>\n",
       "  </thead>\n",
       "  <tbody>\n",
       "    <tr>\n",
       "      <th>0</th>\n",
       "      <td>Black</td>\n",
       "      <td>Male</td>\n",
       "      <td>0</td>\n",
       "    </tr>\n",
       "    <tr>\n",
       "      <th>1</th>\n",
       "      <td>White</td>\n",
       "      <td>Male</td>\n",
       "      <td>0</td>\n",
       "    </tr>\n",
       "    <tr>\n",
       "      <th>2</th>\n",
       "      <td>White</td>\n",
       "      <td>Male</td>\n",
       "      <td>1</td>\n",
       "    </tr>\n",
       "    <tr>\n",
       "      <th>3</th>\n",
       "      <td>Black</td>\n",
       "      <td>Male</td>\n",
       "      <td>1</td>\n",
       "    </tr>\n",
       "    <tr>\n",
       "      <th>4</th>\n",
       "      <td>White</td>\n",
       "      <td>Male</td>\n",
       "      <td>0</td>\n",
       "    </tr>\n",
       "  </tbody>\n",
       "</table>\n",
       "</div>"
      ],
      "text/plain": [
       "    race   sex  income\n",
       "0  Black  Male       0\n",
       "1  White  Male       0\n",
       "2  White  Male       1\n",
       "3  Black  Male       1\n",
       "4  White  Male       0"
      ]
     },
     "execution_count": 25,
     "metadata": {},
     "output_type": "execute_result"
    }
   ],
   "source": [
    "df_original_raw_clone = df_original_raw_clone.drop(['age','workclass','edu_level','marital_status','occupation','relationship','hours_per_week','native_country'],axis=1)\n",
    "df_original_raw_clone.head()"
   ]
  },
  {
   "cell_type": "code",
   "execution_count": 26,
   "id": "19529f29",
   "metadata": {},
   "outputs": [
    {
     "name": "stdout",
     "output_type": "stream",
     "text": [
      "male_income_0= 20988 \n",
      "male_income_1= 9539 \n",
      "female_income_0= 13026 \n",
      "female_income_1= 1669\n"
     ]
    }
   ],
   "source": [
    "male_income_0=0\n",
    "male_income_1=0\n",
    "female_income_0=0\n",
    "female_income_1=0\n",
    "for i in range(len(df_original_raw_clone)):\n",
    "    #print(i)\n",
    "    #print(df_kanony_clone.iloc[i][1])\n",
    "    if df_original_raw_clone.iloc[i][1] == 'Male':\n",
    "        if df_original_raw_clone.iloc[i][2] == 0:\n",
    "            male_income_0 += 1\n",
    "        else:\n",
    "            male_income_1 += 1\n",
    "    else:\n",
    "        if df_original_raw_clone.iloc[i][2] == 0:\n",
    "            female_income_0 += 1\n",
    "        else:\n",
    "            female_income_1 += 1\n",
    "print(\"male_income_0=\",male_income_0,\"\\nmale_income_1=\", male_income_1, \"\\nfemale_income_0=\", female_income_0, \"\\nfemale_income_1=\",female_income_1)"
   ]
  },
  {
   "cell_type": "code",
   "execution_count": 27,
   "id": "bcded881",
   "metadata": {},
   "outputs": [
    {
     "name": "stdout",
     "output_type": "stream",
     "text": [
      "46.41103887488391 %\n",
      "21.093715448233162 %\n",
      "28.804564150192384 %\n",
      "3.6906815266905486 %\n"
     ]
    }
   ],
   "source": [
    "males_income_0_percent=(male_income_0/len(df_original_raw_clone))*100\n",
    "males_income_1_percent=(male_income_1/len(df_original_raw_clone))*100\n",
    "females_income_0_percent=(female_income_0/len(df_original_raw_clone))*100\n",
    "females_income_1_percent=(female_income_1/len(df_original_raw_clone))*100\n",
    "\n",
    "print(males_income_0_percent,\"%\")\n",
    "print(males_income_1_percent,\"%\")\n",
    "print(females_income_0_percent,\"%\")\n",
    "print(females_income_1_percent,\"%\")"
   ]
  },
  {
   "cell_type": "markdown",
   "id": "01ccd4cd",
   "metadata": {},
   "source": [
    "# Plotting Graph for all the types of data"
   ]
  },
  {
   "cell_type": "code",
   "execution_count": 28,
   "id": "68dc3beb",
   "metadata": {},
   "outputs": [],
   "source": [
    "df_anonymized_fairness = pd.read_csv(r'C:\\Users\\Neha Sharma\\Desktop\\Security and Privacy\\Project\\Github\\Final Results\\Graphs\\Anonymization_and_fairness.csv');"
   ]
  },
  {
   "cell_type": "code",
   "execution_count": 29,
   "id": "698608f8",
   "metadata": {},
   "outputs": [
    {
     "data": {
      "text/html": [
       "<div>\n",
       "<style scoped>\n",
       "    .dataframe tbody tr th:only-of-type {\n",
       "        vertical-align: middle;\n",
       "    }\n",
       "\n",
       "    .dataframe tbody tr th {\n",
       "        vertical-align: top;\n",
       "    }\n",
       "\n",
       "    .dataframe thead th {\n",
       "        text-align: right;\n",
       "    }\n",
       "</style>\n",
       "<table border=\"1\" class=\"dataframe\">\n",
       "  <thead>\n",
       "    <tr style=\"text-align: right;\">\n",
       "      <th></th>\n",
       "      <th>Dataset</th>\n",
       "      <th>male_income&lt;=50K</th>\n",
       "      <th>male_income&gt;50K</th>\n",
       "      <th>female_income&lt;=50K</th>\n",
       "      <th>female_income&gt;50K</th>\n",
       "    </tr>\n",
       "  </thead>\n",
       "  <tbody>\n",
       "    <tr>\n",
       "      <th>0</th>\n",
       "      <td>Original Adult</td>\n",
       "      <td>46.411039</td>\n",
       "      <td>21.093715</td>\n",
       "      <td>28.804564</td>\n",
       "      <td>3.690682</td>\n",
       "    </tr>\n",
       "    <tr>\n",
       "      <th>1</th>\n",
       "      <td>Anonymized Adult</td>\n",
       "      <td>46.362973</td>\n",
       "      <td>21.205490</td>\n",
       "      <td>28.744778</td>\n",
       "      <td>3.686758</td>\n",
       "    </tr>\n",
       "    <tr>\n",
       "      <th>2</th>\n",
       "      <td>Fair Anonymized Adult</td>\n",
       "      <td>44.718803</td>\n",
       "      <td>22.856932</td>\n",
       "      <td>27.670082</td>\n",
       "      <td>4.754183</td>\n",
       "    </tr>\n",
       "  </tbody>\n",
       "</table>\n",
       "</div>"
      ],
      "text/plain": [
       "                 Dataset  male_income<=50K  male_income>50K  \\\n",
       "0         Original Adult         46.411039        21.093715   \n",
       "1       Anonymized Adult         46.362973        21.205490   \n",
       "2  Fair Anonymized Adult         44.718803        22.856932   \n",
       "\n",
       "   female_income<=50K  female_income>50K  \n",
       "0           28.804564           3.690682  \n",
       "1           28.744778           3.686758  \n",
       "2           27.670082           4.754183  "
      ]
     },
     "execution_count": 29,
     "metadata": {},
     "output_type": "execute_result"
    }
   ],
   "source": [
    "df_anonymized_fairness.head()"
   ]
  },
  {
   "cell_type": "code",
   "execution_count": 31,
   "id": "a19d5bb6",
   "metadata": {},
   "outputs": [
    {
     "data": {
      "text/plain": [
       "<AxesSubplot:title={'center':'Comparision of different processed datasets fairness percentages'}, xlabel='Dataset', ylabel='Percentage'>"
      ]
     },
     "execution_count": 31,
     "metadata": {},
     "output_type": "execute_result"
    },
    {
     "data": {
      "image/png": "[encoded data removed]",
      "text/plain": [
       "<Figure size 864x720 with 1 Axes>"
      ]
     },
     "metadata": {
      "needs_background": "light"
     },
     "output_type": "display_data"
    }
   ],
   "source": [
    "df_anonymized_fairness.plot(x=\"Dataset\", y=[\"male_income<=50K\", \"male_income>50K\", \"female_income<=50K\", \"female_income>50K\"], kind=\"bar\", figsize=(12,10), legend={'reverse'}, rot=25, ylabel=\"Percentage\", title=\"Comparision of different processed datasets fairness percentages\")"
   ]
  },
  {
   "cell_type": "code",
   "execution_count": null,
   "id": "1fd7b557",
   "metadata": {},
   "outputs": [],
   "source": []
  }
 ],
 "metadata": {
  "kernelspec": {
   "display_name": "Python 3",
   "language": "python",
   "name": "python3"
  },
  "language_info": {
   "codemirror_mode": {
    "name": "ipython",
    "version": 3
   },
   "file_extension": ".py",
   "mimetype": "text/x-python",
   "name": "python",
   "nbconvert_exporter": "python",
   "pygments_lexer": "ipython3",
   "version": "3.8.8"
  }
 },
 "nbformat": 4,
 "nbformat_minor": 5
}
